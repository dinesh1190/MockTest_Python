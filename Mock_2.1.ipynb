{
  "nbformat": 4,
  "nbformat_minor": 0,
  "metadata": {
    "colab": {
      "provenance": [],
      "authorship_tag": "ABX9TyN6U8gCa/wr8VDsBAKsoKG7",
      "include_colab_link": true
    },
    "kernelspec": {
      "name": "python3",
      "display_name": "Python 3"
    },
    "language_info": {
      "name": "python"
    }
  },
  "cells": [
    {
      "cell_type": "markdown",
      "metadata": {
        "id": "view-in-github",
        "colab_type": "text"
      },
      "source": [
        "<a href=\"https://colab.research.google.com/github/dinesh1190/MockTest_Python/blob/main/Mock_2.1.ipynb\" target=\"_parent\"><img src=\"https://colab.research.google.com/assets/colab-badge.svg\" alt=\"Open In Colab\"/></a>"
      ]
    },
    {
      "cell_type": "code",
      "execution_count": 1,
      "metadata": {
        "id": "tsuzhrHcwpFk"
      },
      "outputs": [],
      "source": [
        "class ListNode:\n",
        "    def __init__(self, val=0, next=None):\n",
        "        self.val = val\n",
        "        self.next = next\n",
        "\n",
        "def addTwoNumbers(l1, l2):\n",
        "    dummyHead = ListNode(0)\n",
        "    current = dummyHead\n",
        "    carry = 0\n",
        "\n",
        "    while l1 or l2:\n",
        "        x = l1.val if l1 else 0\n",
        "        y = l2.val if l2 else 0\n",
        "        _sum = x + y + carry\n",
        "        carry = _sum // 10\n",
        "\n",
        "        current.next = ListNode(_sum % 10)\n",
        "        current = current.next\n",
        "\n",
        "        if l1:\n",
        "            l1 = l1.next\n",
        "        if l2:\n",
        "            l2 = l2.next\n",
        "\n",
        "    if carry:\n",
        "        current.next = ListNode(carry)\n",
        "\n",
        "    return dummyHead.next"
      ]
    },
    {
      "cell_type": "code",
      "source": [
        "l1 = ListNode(2)\n",
        "l1.next = ListNode(4)\n",
        "l1.next.next = ListNode(3)\n",
        "\n",
        "l2 = ListNode(5)\n",
        "l2.next = ListNode(6)\n",
        "l2.next.next = ListNode(4)\n",
        "result = addTwoNumbers(l1, l2)\n",
        "# Printing the output list\n",
        "output = []\n",
        "while result:\n",
        "    output.append(result.val)\n",
        "    result = result.next\n",
        "\n",
        "print(output)"
      ],
      "metadata": {
        "id": "4KmiUAUqwuIW"
      },
      "execution_count": null,
      "outputs": []
    }
  ]
}