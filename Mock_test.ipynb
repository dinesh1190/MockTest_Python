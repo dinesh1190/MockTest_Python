{
  "nbformat": 4,
  "nbformat_minor": 0,
  "metadata": {
    "colab": {
      "provenance": [],
      "include_colab_link": true
    },
    "kernelspec": {
      "name": "python3",
      "display_name": "Python 3"
    },
    "language_info": {
      "name": "python"
    }
  },
  "cells": [
    {
      "cell_type": "markdown",
      "metadata": {
        "id": "view-in-github",
        "colab_type": "text"
      },
      "source": [
        "<a href=\"https://colab.research.google.com/github/dinesh1190/MockTest_Python/blob/main/Mock_test.ipynb\" target=\"_parent\"><img src=\"https://colab.research.google.com/assets/colab-badge.svg\" alt=\"Open In Colab\"/></a>"
      ]
    },
    {
      "cell_type": "markdown",
      "source": [
        "#Move Zeroes:"
      ],
      "metadata": {
        "id": "cn85CbSazFRZ"
      }
    },
    {
      "cell_type": "code",
      "execution_count": null,
      "metadata": {
        "id": "xJU5MeMCxVY_"
      },
      "outputs": [],
      "source": [
        "\n",
        "def moveZeroes(nums):\n",
        "    nums[:] = [num for num in nums if num != 0] + [0] * nums.count(0)"
      ]
    },
    {
      "cell_type": "code",
      "source": [
        "nums = [0, 1, 0, 3, 12]\n",
        "moveZeroes(nums)\n",
        "print(nums)"
      ],
      "metadata": {
        "colab": {
          "base_uri": "https://localhost:8080/"
        },
        "id": "8wIazZ9cxWOg",
        "outputId": "e8c6fd00-dd31-4475-884f-1cf9fc3df87e"
      },
      "execution_count": null,
      "outputs": [
        {
          "output_type": "stream",
          "name": "stdout",
          "text": [
            "[1, 3, 12, 0, 0]\n"
          ]
        }
      ]
    },
    {
      "cell_type": "markdown",
      "source": [
        "#First Unique Character in a String"
      ],
      "metadata": {
        "id": "Fja-w8JKzL6H"
      }
    },
    {
      "cell_type": "code",
      "source": [
        "from collections import Counter\n",
        "\n",
        "def firstUniqChar(s):\n",
        "    char_count = Counter(s)\n",
        "\n",
        "    for i, char in enumerate(s):\n",
        "        if char_count[char] == 1:\n",
        "            return i\n",
        "\n",
        "    return -1\n"
      ],
      "metadata": {
        "id": "-WxHYY4cxfl2"
      },
      "execution_count": null,
      "outputs": []
    },
    {
      "cell_type": "code",
      "source": [
        "s = \"aabbcde\"\n",
        "print(firstUniqChar(s))"
      ],
      "metadata": {
        "colab": {
          "base_uri": "https://localhost:8080/"
        },
        "id": "AXrTdtHiy6gS",
        "outputId": "2e436be3-bd5f-40ff-a712-e45bbf4ccc29"
      },
      "execution_count": null,
      "outputs": [
        {
          "output_type": "stream",
          "name": "stdout",
          "text": [
            "4\n"
          ]
        }
      ]
    },
    {
      "cell_type": "code",
      "source": [],
      "metadata": {
        "id": "8TjHRJh0zDKE"
      },
      "execution_count": null,
      "outputs": []
    }
  ]
}